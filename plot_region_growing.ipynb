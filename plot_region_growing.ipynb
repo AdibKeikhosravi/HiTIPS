{
 "cells": [
  {
   "cell_type": "code",
   "execution_count": 1,
   "metadata": {
    "collapsed": false,
    "jupyter": {
     "outputs_hidden": false
    }
   },
   "outputs": [],
   "source": [
    "%matplotlib inline"
   ]
  },
  {
   "cell_type": "markdown",
   "metadata": {},
   "source": [
    "\n",
    "Region Growing Segmentation\n",
    "===========================\n",
    "\n",
    "Thresholding is the most basic form of segmentation. The first step of \n",
    "improvement upon the naive thresholding is a class of algorithms called \n",
    "region growing.\n",
    "\n",
    "The common theme in this class of algorithms is that a voxel's\n",
    "neighbor is considered to be in the same class if its intensities are\n",
    "similar to the current voxel. The definition of similar is what varies.\n",
    "Initial set of voxel are called seed points. These initial seed points are \n",
    "usually manually selected. \n",
    "\n",
    "We illustrate the use of three variants of this family of algorithms: \n",
    "\n",
    "- `ConnectedThreshold <http://www.itk.org/Doxygen/html/classitk_1_1ConnectedThresholdImageFilter.html>`_ \n",
    "- `ConfidenceConnected <http://www.itk.org/Doxygen/html/classitk_1_1ConfidenceConnectedImageFilter.html>`_ \n",
    "- `VectorConfidenceConnected <http://www.itk.org/Doxygen/html/classitk_1_1VectorConfidenceConnectedImageFilter.html>`_ \n",
    "\n",
    "We will illustrate the usage of these three filters using a cranial MRI\n",
    "scan (T1 and T2) and attempt to segment one of the ventricles.\n",
    "\n"
   ]
  },
  {
   "cell_type": "code",
   "execution_count": 6,
   "metadata": {
    "collapsed": false,
    "jupyter": {
     "outputs_hidden": false
    }
   },
   "outputs": [
    {
     "ename": "ImportError",
     "evalue": "cannot import name 'myshow' from 'myshow' (/Users/keikhosravia2/Desktop/GuiDesign/usingmetadata/myshow.py)",
     "output_type": "error",
     "traceback": [
      "\u001b[0;31m---------------------------------------------------------------------------\u001b[0m",
      "\u001b[0;31mImportError\u001b[0m                               Traceback (most recent call last)",
      "\u001b[0;32m<ipython-input-6-a9f9d3000f8e>\u001b[0m in \u001b[0;36m<module>\u001b[0;34m\u001b[0m\n\u001b[1;32m      1\u001b[0m \u001b[0;32mimport\u001b[0m \u001b[0mSimpleITK\u001b[0m \u001b[0;32mas\u001b[0m \u001b[0msitk\u001b[0m\u001b[0;34m\u001b[0m\u001b[0;34m\u001b[0m\u001b[0m\n\u001b[0;32m----> 2\u001b[0;31m \u001b[0;32mfrom\u001b[0m \u001b[0mmyshow\u001b[0m \u001b[0;32mimport\u001b[0m \u001b[0mmyshow\u001b[0m\u001b[0;34m,\u001b[0m \u001b[0mmyshow3d\u001b[0m\u001b[0;34m\u001b[0m\u001b[0;34m\u001b[0m\u001b[0m\n\u001b[0m\u001b[1;32m      3\u001b[0m \u001b[0;32mfrom\u001b[0m \u001b[0mdownloaddata\u001b[0m \u001b[0;32mimport\u001b[0m \u001b[0mfetch_data\u001b[0m \u001b[0;32mas\u001b[0m \u001b[0mfdata\u001b[0m\u001b[0;34m\u001b[0m\u001b[0;34m\u001b[0m\u001b[0m\n",
      "\u001b[0;31mImportError\u001b[0m: cannot import name 'myshow' from 'myshow' (/Users/keikhosravia2/Desktop/GuiDesign/usingmetadata/myshow.py)"
     ]
    }
   ],
   "source": [
    "import SimpleITK as sitk\n",
    "from myshow import myshow, myshow3d\n",
    "from downloaddata import fetch_data as fdata"
   ]
  },
  {
   "cell_type": "markdown",
   "metadata": {},
   "source": [
    "Load Images\n",
    "-----------\n",
    "\n"
   ]
  },
  {
   "cell_type": "code",
   "execution_count": null,
   "metadata": {
    "collapsed": false,
    "jupyter": {
     "outputs_hidden": false
    }
   },
   "outputs": [],
   "source": [
    "img_T1 = sitk.ReadImage(\n",
    "    fdata(\"nac-hncma-atlas2013-Slicer4Version/Data/A1_grayT1.nrrd\"))\n",
    "\n",
    "# To visualize the labels image in RGB needs a image with 0-255 range\n",
    "img_T1_255 = sitk.Cast(sitk.RescaleIntensity(img_T1), sitk.sitkUInt8)\n",
    "\n",
    "size = img_T1.GetSize()\n",
    "myshow3d(img_T1_255, zslices=range(50, size[2] - 50, 20), title='T1')"
   ]
  },
  {
   "cell_type": "markdown",
   "metadata": {},
   "source": [
    "Seed selection\n",
    "--------------\n",
    "\n",
    "Earlier we used 3D Slicer to determine that index: (132,142,96) was a\n",
    "good seed for the left lateral ventricle.\n",
    "\n"
   ]
  },
  {
   "cell_type": "code",
   "execution_count": null,
   "metadata": {
    "collapsed": false,
    "jupyter": {
     "outputs_hidden": false
    }
   },
   "outputs": [],
   "source": [
    "seed = (132, 142, 96)\n",
    "\n",
    "seg = sitk.Image(img_T1.GetSize(), sitk.sitkUInt8)\n",
    "seg.CopyInformation(img_T1)\n",
    "seg[seed] = 1\n",
    "\n",
    "seg = sitk.BinaryDilate(seg, 3)\n",
    "\n",
    "myshow3d(sitk.LabelOverlay(img_T1_255, seg),\n",
    "         xslices=range(132, 133), yslices=range(142, 143),\n",
    "         zslices=range(96, 97), title=\"Initial Seed\")"
   ]
  },
  {
   "cell_type": "markdown",
   "metadata": {},
   "source": [
    "Region Growing\n",
    "--------------\n",
    " Let's start with ``ConnectedThreshold``.\n",
    "\n",
    "``ConnectedThreshold``\n",
    "^^^^^^^^^^^^^^^^^^^^^^\n",
    "Here, voxel’s neighbor is considered to be in the same class if the\n",
    "neighboring voxel’s intensity is within explicitly specified thresholds.\n",
    "\n",
    "We start by using explicitly specified thresholds, you should modify\n",
    "these (lower/upper) to see the effects on the resulting segmentation.\n",
    "\n"
   ]
  },
  {
   "cell_type": "code",
   "execution_count": null,
   "metadata": {
    "collapsed": false,
    "jupyter": {
     "outputs_hidden": false
    }
   },
   "outputs": [],
   "source": [
    "seg_con = sitk.ConnectedThreshold(img_T1, seedList=[seed],\n",
    "                                  lower=100, upper=190)\n",
    "\n",
    "myshow3d(sitk.LabelOverlay(img_T1_255, seg_con),\n",
    "         xslices=range(132, 133), yslices=range(142, 143),\n",
    "         zslices=range(96, 97), title=\"Connected Threshold\")"
   ]
  },
  {
   "cell_type": "markdown",
   "metadata": {},
   "source": [
    "``ConfidenceConnected``\n",
    "^^^^^^^^^^^^^^^^^^^^^^^\n",
    "\n",
    "\n",
    "Unlike in ``ConnectedThreshold``, you need not select the bounds in\n",
    "``ConfidenceConnected`` filter. Bounds are implicitly specified as\n",
    "$\\mu\\pm c\\sigma$, where $\\mu$ is the mean intensity of the seed\n",
    "points, $\\sigma$ their standard deviation and $c$ a user specified\n",
    "constant.\n",
    "\n",
    "This algorithm has some flexibility which you should familiarize yourself with:\n",
    "\n",
    "* The ``multiplier`` parameter is the constant $c$ from the formula above.\n",
    "* You can specify a region around each seed point ``initialNeighborhoodRadius``\n",
    "  from which the statistics are estimated, see what happens when you set it to zero.\n",
    "* The ``numberOfIterations`` allows you to rerun the algorithm. In the first\n",
    "  run the bounds are defined by the seed voxels you specified, in the\n",
    "  following iterations $\\mu$ and $\\sigma$ are estimated from\n",
    "  the segmented points and the region growing is updated accordingly.\n",
    "\n"
   ]
  },
  {
   "cell_type": "code",
   "execution_count": null,
   "metadata": {
    "collapsed": false,
    "jupyter": {
     "outputs_hidden": false
    }
   },
   "outputs": [],
   "source": [
    "seg_conf = sitk.ConfidenceConnected(img_T1, seedList=[seed],\n",
    "                                    numberOfIterations=1,\n",
    "                                    multiplier=2.5,\n",
    "                                    initialNeighborhoodRadius=1,\n",
    "                                    replaceValue=1)\n",
    "\n",
    "myshow3d(sitk.LabelOverlay(img_T1_255, seg_conf),\n",
    "         xslices=range(132, 133), yslices=range(142, 143),\n",
    "         zslices=range(96, 97), title=\"ConfidenceConnected\")"
   ]
  },
  {
   "cell_type": "markdown",
   "metadata": {},
   "source": [
    "``VectorConfidenceConnected``\n",
    "^^^^^^^^^^^^^^^^^^^^^^^^^^^^^\n",
    "A generalization of the previous approach to vector valued images,\n",
    "for instance multi-spectral images or multi-parametric MRI.\n",
    "Here, The bounds for neighboring voxel's intensity vector is 2implicitly\n",
    "specified bounds using the Mahalanobis distance\n",
    "$\\sqrt{(\\mathbf{x}-\\mathbf{\\mu})^T\\Sigma^{-1}(\\mathbf{x}-\\mathbf{\\mu})}<c$,\n",
    "where $\\mathbf{\\mu}$ is the mean of the vectors at the seed points,\n",
    "$\\Sigma$ is the covariance matrix and $c$ is a user specified\n",
    "constant.\n",
    "\n",
    "Let's load a T2 image from the same person and combine it with the T1\n",
    "image to create a vector image and apply the algorithm on it.\n",
    "\n"
   ]
  },
  {
   "cell_type": "code",
   "execution_count": null,
   "metadata": {
    "collapsed": false,
    "jupyter": {
     "outputs_hidden": false
    }
   },
   "outputs": [],
   "source": [
    "img_T2 = sitk.ReadImage(\n",
    "    fdata(\"nac-hncma-atlas2013-Slicer4Version/Data/A1_grayT2.nrrd\"))\n",
    "img_T2_255 = sitk.Cast(sitk.RescaleIntensity(img_T2), sitk.sitkUInt8)\n",
    "\n",
    "\n",
    "img_multi = sitk.Compose(img_T1, img_T2)\n",
    "seg_vec = sitk.VectorConfidenceConnected(img_multi, seedList=[seed],\n",
    "                                         numberOfIterations=1,\n",
    "                                         multiplier=4,\n",
    "                                         initialNeighborhoodRadius=1)\n",
    "\n",
    "myshow3d(sitk.LabelOverlay(img_T2_255, seg_vec),\n",
    "         xslices=range(132, 133), yslices=range(142, 143),\n",
    "         zslices=range(96, 97), title=\"VectorConfidenceConnected\")"
   ]
  },
  {
   "cell_type": "markdown",
   "metadata": {},
   "source": [
    "Clean up, clean up\n",
    "------------------\n",
    "\n",
    "Use of low level segmentation algorithms such as region growing is often followed by a clean up step. In this step we fill holes and remove small connected components. Both of these operations are achieved by using binary morphological operations, opening (``BinaryMorphologicalOpening``) to remove small connected components and closing (``BinaryMorphologicalClosing``) to fill holes.\n",
    "\n",
    "SimpleITK supports several shapes for the structuring elements (kernels) including:\n",
    "\n",
    "- sitkAnnulus\n",
    "- sitkBall\n",
    "- sitkBox\n",
    "- sitkCross\n",
    "\n",
    "The size of the kernel can be specified as a scalar (same for all dimensions) or as a vector of values, size per dimension.\n",
    "\n",
    "The following code illustrates the results of such a clean up, using\n",
    "closing to remove holes in the original segmentation.\n",
    "\n"
   ]
  },
  {
   "cell_type": "code",
   "execution_count": null,
   "metadata": {
    "collapsed": false,
    "jupyter": {
     "outputs_hidden": false
    }
   },
   "outputs": [],
   "source": [
    "vectorRadius = (1, 1, 1)\n",
    "kernel = sitk.sitkBall\n",
    "seg_clean = sitk.BinaryMorphologicalClosing(seg_vec,\n",
    "                                            vectorRadius,\n",
    "                                            kernel)\n",
    "\n",
    "myshow3d(sitk.LabelOverlay(img_T1_255, seg_clean),\n",
    "         xslices=range(132, 133), yslices=range(142, 143),\n",
    "         zslices=range(96, 97), title=\"Cleaned up segmentation\")"
   ]
  }
 ],
 "metadata": {
  "kernelspec": {
   "display_name": "Python 3",
   "language": "python",
   "name": "python3"
  },
  "language_info": {
   "codemirror_mode": {
    "name": "ipython",
    "version": 3
   },
   "file_extension": ".py",
   "mimetype": "text/x-python",
   "name": "python",
   "nbconvert_exporter": "python",
   "pygments_lexer": "ipython3",
   "version": "3.7.6"
  }
 },
 "nbformat": 4,
 "nbformat_minor": 4
}
