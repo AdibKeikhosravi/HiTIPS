{
 "cells": [
  {
   "cell_type": "code",
   "execution_count": 2,
   "metadata": {},
   "outputs": [],
   "source": [
    "import pandas as pd\n",
    "import numpy as np\n",
    "import math"
   ]
  },
  {
   "cell_type": "code",
   "execution_count": 19,
   "metadata": {},
   "outputs": [],
   "source": [
    "tier2 = pd.read_csv('Tier2_datasets_36plex.csv')\n",
    "loci_list = ['2pR1-1', '2pR2-1', '2pR3-1', '2qR1-1','2qR2-1', '2qR3-1', '3pR1-1','3pR2-1', '3qR1-1', '3qR2-1','3pR3-1', '3qR3-1',\n",
    "             '5pR1-1', '5pR2-1', '5qR1-1', '5qR2-1', '5qR3-1', '5pR3-1', '16pR1-1', '16pR2-1', '16pR3-1','16qR1-1', '16qR2-1', \n",
    "             '16qR3-1', '19pR1-1', '19pR2-1', '19pR3-1', '19qR1-1', '19qR2-1','19qR3-1',\n",
    "             '2pR1-2', '2pR2-2', '2pR3-2', '2qR1-2','2qR2-2', '2qR3-2', '3pR1-2','3pR2-2', '3qR1-2', '3qR2-2','3pR3-2', \n",
    "             '3qR3-2', '5pR1-2', '5pR2-2', '5qR1-2', '5qR2-2', '5qR3-2', '5pR3-2', '16pR1-2', '16pR2-2', '16pR3-2','16qR1-2', \n",
    "             '16qR2-2', '16qR3-2','19pR1-2', '19pR2-2', '19pR3-2', '19qR1-2', '19qR2-2','19qR3-2',\n",
    "             'XpR1-1', 'XpR2-1', 'XpR3-1', 'XqR1-1', 'XqR2-1', 'XqR3-1']"
   ]
  },
  {
   "cell_type": "code",
   "execution_count": 20,
   "metadata": {},
   "outputs": [],
   "source": [
    "unique_images = tier2['image'].unique()\n",
    "unique_cells = tier2['roi'].unique()\n",
    "unique_experiments = tier2['category'].unique()\n",
    "sheet_names = []"
   ]
  },
  {
   "cell_type": "code",
   "execution_count": null,
   "metadata": {},
   "outputs": [],
   "source": [
    "with pd.ExcelWriter('HiC_data_all.xlsx') as writer:  \n",
    "    for image in unique_images:\n",
    "        for cells in unique_cells:\n",
    "            for experiments in unique_experiments:\n",
    "\n",
    "                selected_cell = tier2.loc[(tier2['image'] == image) & \n",
    "                                          (tier2['roi'] == cells) & \n",
    "                                          (tier2['category'] == experiments)]\n",
    "\n",
    "                if selected_cell.empty == False:\n",
    "\n",
    "                    hic_matrix = np.zeros((66,66), dtype= 'float64')\n",
    "                    HiC_data = pd.DataFrame(hic_matrix, columns = loci_list, index=loci_list)\n",
    "\n",
    "                    for locus1 in loci_list:\n",
    "                        locus1_ploidy = int(locus1.split('-')[1])\n",
    "                        locus1_name = locus1.split('-')[0]\n",
    "\n",
    "                        locus1_df = selected_cell.loc[(selected_cell['ploid'] == locus1_ploidy) & \n",
    "                                                      (selected_cell['loci'] == locus1_name)]\n",
    "\n",
    "                        if locus1_df.empty == False:\n",
    "\n",
    "                            for locus2 in loci_list:\n",
    "\n",
    "                                locus2_ploidy = int(locus2.split('-')[1])\n",
    "                                locus2_name = locus2.split('-')[0]\n",
    "\n",
    "                                locus2_df = selected_cell.loc[(selected_cell['ploid'] == locus2_ploidy) & \n",
    "                                                              (selected_cell['loci'] == locus2_name)]\n",
    "\n",
    "                                if locus2_df.empty == False:\n",
    "\n",
    "                                    distance =  math.sqrt(\n",
    "                                                math.pow((locus1_df['pos_x'].iloc[0] - locus2_df['pos_x'].iloc[0]),2) +\n",
    "                                                math.pow((locus1_df['pos_y'].iloc[0] - locus2_df['pos_y'].iloc[0]),2) +\n",
    "                                                math.pow((locus1_df['pos_z'].iloc[0] - locus2_df['pos_z'].iloc[0]),2)\n",
    "                                                )\n",
    "\n",
    "\n",
    "                                    HiC_data.at[locus1,locus2] = distance\n",
    "\n",
    "\n",
    "                    cell_sheet_name = experiments + '_image_' + str(image) + '_roi_' + str(cells)\n",
    "                    HiC_data.to_excel(writer, sheet_name = cell_sheet_name)\n",
    "                    sheet_names.append(cell_sheet_name)\n",
    "                    sheet_nm = pd.DataFrame(sheet_names, columns = ['sheet_names'])\n",
    "                    sheet_nm.to_excel(\"sheet_names.xlsx\")\n"
   ]
  },
  {
   "cell_type": "code",
   "execution_count": null,
   "metadata": {},
   "outputs": [],
   "source": [
    "for i in range(sheet_num):\n",
    "    hic1 = pd.read_excel('HiC_data_all.xlsx', sheet_name=i)\n",
    "    hic_np = hic1.to_numpy()\n",
    "    hic_np1 = hic_np[:, 1:]\n",
    "    hic_all.append(hic_np1)"
   ]
  },
  {
   "cell_type": "code",
   "execution_count": 4,
   "metadata": {},
   "outputs": [],
   "source": [
    "hic1 = pd.read_excel('HiC_data_all.xlsx', sheet_name=None)"
   ]
  },
  {
   "cell_type": "code",
   "execution_count": 26,
   "metadata": {},
   "outputs": [],
   "source": [
    "sheet_names.append(cell_sheet_name)\n",
    "sheet_nm = pd.DataFrame(sheet_names, columns = ['sheet_names'])\n",
    "sheet_nm.to_excel(\"sheet_names.xlsx\")"
   ]
  },
  {
   "cell_type": "code",
   "execution_count": 28,
   "metadata": {},
   "outputs": [],
   "source": [
    "hic_matrix = []\n",
    "for i in range(sheet_names.__len__()):\n",
    "    \n",
    "    sheet = sheet_names[i]\n",
    "    hic_pd = hic1[sheet]\n",
    "    hic_np = hic_pd.to_numpy()\n",
    "    hic_np1 = hic_np[:, 1:]\n",
    "    hic_matrix.append(hic_np1)"
   ]
  },
  {
   "cell_type": "code",
   "execution_count": null,
   "metadata": {},
   "outputs": [],
   "source": []
  },
  {
   "cell_type": "code",
   "execution_count": null,
   "metadata": {},
   "outputs": [],
   "source": []
  },
  {
   "cell_type": "code",
   "execution_count": null,
   "metadata": {},
   "outputs": [],
   "source": []
  }
 ],
 "metadata": {
  "kernelspec": {
   "display_name": "Python 3",
   "language": "python",
   "name": "python3"
  },
  "language_info": {
   "codemirror_mode": {
    "name": "ipython",
    "version": 3
   },
   "file_extension": ".py",
   "mimetype": "text/x-python",
   "name": "python",
   "nbconvert_exporter": "python",
   "pygments_lexer": "ipython3",
   "version": "3.7.6"
  }
 },
 "nbformat": 4,
 "nbformat_minor": 4
}
