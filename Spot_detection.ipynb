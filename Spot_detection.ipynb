{
 "cells": [
  {
   "cell_type": "code",
   "execution_count": 1,
   "metadata": {},
   "outputs": [],
   "source": [
    "from xml.dom import minidom\n",
    "import os\n",
    "import pandas as pd\n",
    "# parse an xml file by name\n",
    "metadatafilename = '/Users/keikhosravia2/Desktop/AssayPlate_PerkinElmer_CellCarrier-384/MeasurementData.mlf'\n",
    "mydoc = minidom.parse(metadatafilename)\n",
    "PATH_TO_FILES = os.path.split(metadatafilename)[0]\n",
    "items = mydoc.getElementsByTagName('bts:MeasurementRecord')\n",
    "\n",
    "df_cols = [\"ImageName\", \"Column\", \"Row\", \"TimePoint\", \"FieldIndex\", \"ZSlice\", \"Channel\"]\n",
    "rows = []\n",
    "\n",
    "for i in range(items.length):\n",
    "\n",
    "    rows.append({\n",
    "                 \"ImageName\": os.path.join(PATH_TO_FILES, items[i].firstChild.data), \n",
    "                 \"Column\": items[i].attributes['bts:Column'].value, \n",
    "                 \"Row\": items[i].attributes['bts:Row'].value, \n",
    "                 \"TimePoint\": items[i].attributes['bts:TimePoint'].value, \n",
    "                 \"FieldIndex\": items[i].attributes['bts:FieldIndex'].value, \n",
    "                 \"ZSlice\": items[i].attributes['bts:ZIndex'].value, \n",
    "                 \"Channel\":items[i].attributes['bts:Ch'].value\n",
    "                })\n",
    "    \n",
    "out_df = pd.DataFrame(rows, columns = df_cols)"
   ]
  },
  {
   "cell_type": "code",
   "execution_count": 2,
   "metadata": {},
   "outputs": [
    {
     "data": {
      "text/plain": [
       "True"
      ]
     },
     "execution_count": 2,
     "metadata": {},
     "output_type": "execute_result"
    }
   ],
   "source": [
    "import matplotlib.image as mpimg\n",
    "import numpy as np\n",
    "import cv2\n",
    "from matplotlib import pyplot as plt\n",
    "from scipy import ndimage, misc\n",
    "\n",
    "df = out_df\n",
    "select_color = df.loc[(df['Column'] == '7') & (df['Row'] == '12') & (df['TimePoint'] == '1') & \n",
    "                         (df['FieldIndex'] == '14')& (df['Channel']=='3' )]\n",
    "from PIL import Image\n",
    "z_imglist=[]\n",
    "for index, row in select_color.iterrows():\n",
    "    im = Image.open(row['ImageName'])\n",
    "    z_imglist.append( np.asarray(im))\n",
    "z_stack = np.stack(z_imglist, axis=2)\n",
    "max_project = z_stack.max(axis=2)\n",
    "#ch3_img = mpimg.imread(select_color.loc[select_color['Channel']=='1']['ImageName'].iloc[0])\n",
    "height, width = np.shape(max_project)\n",
    "img_uint8 = cv2.normalize(max_project, None, 0, 255, cv2.NORM_MINMAX, dtype=cv2.CV_8U)\n",
    "result = ndimage.gaussian_laplace(img_uint8, sigma=3)\n",
    "cv2.imwrite('graymax.jpg',img_uint8)\n"
   ]
  },
  {
   "cell_type": "code",
   "execution_count": 18,
   "metadata": {},
   "outputs": [
    {
     "name": "stdout",
     "output_type": "stream",
     "text": [
      "9\n"
     ]
    },
    {
     "data": {
      "text/plain": [
       "(-0.5, 2551.5, 2151.5, -0.5)"
      ]
     },
     "execution_count": 18,
     "metadata": {},
     "output_type": "execute_result"
    },
    {
     "data": {
      "image/png": "[encoded data removed]",
      "text/plain": [
       "<Figure size 432x288 with 1 Axes>"
      ]
     },
     "metadata": {
      "needs_background": "light"
     },
     "output_type": "display_data"
    }
   ],
   "source": [
    "from scipy import ndimage\n",
    "\n",
    "ret2, thresh2 = cv2.threshold(result,0,255,cv2.THRESH_BINARY_INV+cv2.THRESH_OTSU)\n",
    "bin_img = (1-thresh2/255).astype('bool')\n",
    "print(cv2.THRESH_BINARY_INV+cv2.THRESH_OTSU)\n",
    "filled_int= (bin_img*255).astype('uint8')\n",
    "\n",
    "cv2.imwrite('spots.jpg',filled_int)\n",
    "plt.imshow(bin_img, cmap='gray')\n",
    "plt.axis('off')"
   ]
  },
  {
   "cell_type": "code",
   "execution_count": 92,
   "metadata": {},
   "outputs": [
    {
     "data": {
      "text/plain": [
       "<matplotlib.image.AxesImage at 0x7fba853c1f10>"
      ]
     },
     "execution_count": 92,
     "metadata": {},
     "output_type": "execute_result"
    },
    {
     "data": {
      "image/png": "[encoded data removed]",
      "text/plain": [
       "<Figure size 432x288 with 1 Axes>"
      ]
     },
     "metadata": {
      "needs_background": "light"
     },
     "output_type": "display_data"
    }
   ],
   "source": [
    "#closed_img = ndimage.binary_closing(~thresh2).astype(np.int)\n",
    "kernel = np.ones((5,5),np.uint8)\n",
    "\n",
    "closed_img = cv2.morphologyEx(filled_int, cv2.MORPH_CLOSE, kernel)\n",
    "\n",
    "blurred_spots = ndimage.gaussian_filter(closed_img, sigma=2)\n",
    "ret2, thresh2 = cv2.threshold(blurred_spots,0,255,cv2.THRESH_BINARY_INV+cv2.THRESH_OTSU)\n",
    "\n",
    "cv2.imwrite('blurred_spots.jpg',blurred_spots)\n",
    "plt.imshow(blurred_spots, cmap='gray')"
   ]
  },
  {
   "cell_type": "code",
   "execution_count": 93,
   "metadata": {},
   "outputs": [
    {
     "name": "stdout",
     "output_type": "stream",
     "text": [
      "(122, 2) 122 uint8\n"
     ]
    }
   ],
   "source": [
    "from scipy.ndimage import label\n",
    "from skimage.feature import peak_local_max\n",
    "bin_img = (1-thresh2/255).astype('bool')\n",
    "filled_int= (bin_img*255).astype('uint8')\n",
    "labeled_array, num_features = label(filled_int)\n",
    "\n",
    "coordinates = peak_local_max(blurred_spots, labels=labeled_array, num_peaks_per_label=1)"
   ]
  },
  {
   "cell_type": "code",
   "execution_count": 94,
   "metadata": {},
   "outputs": [],
   "source": [
    "from skimage import data, color\n",
    "\n",
    "im = color.gray2rgb(blurred_spots)\n",
    "im[coordinates[:, 0],coordinates[:, 1]] = (0,0,255)"
   ]
  },
  {
   "cell_type": "code",
   "execution_count": 96,
   "metadata": {},
   "outputs": [
    {
     "data": {
      "text/plain": [
       "True"
      ]
     },
     "execution_count": 96,
     "metadata": {},
     "output_type": "execute_result"
    }
   ],
   "source": [
    "#plt.imsave('max_points.tif',im)\n",
    "cv2.imwrite('max_points.tif',im)"
   ]
  },
  {
   "cell_type": "code",
   "execution_count": 97,
   "metadata": {},
   "outputs": [
    {
     "data": {
      "text/plain": [
       "True"
      ]
     },
     "execution_count": 97,
     "metadata": {},
     "output_type": "execute_result"
    }
   ],
   "source": [
    "from skimage.color import label2rgb\n",
    "\n",
    "rgblabel = label2rgb(labeled_array,alpha=0.1, bg_label = 0)\n",
    "rgblabel=(rgblabel*255).astype('uint8')\n",
    "cv2.imwrite('rgblabel.tif',rgblabel)\n"
   ]
  },
  {
   "cell_type": "code",
   "execution_count": 105,
   "metadata": {},
   "outputs": [
    {
     "data": {
      "text/plain": [
       "[(0.75, 1.75), (3.3333333333333335, 2.3333333333333335)]"
      ]
     },
     "execution_count": 105,
     "metadata": {},
     "output_type": "execute_result"
    }
   ],
   "source": [
    "b = np.array(([0,1,1,0],\n",
    "              [0,1,5,0],\n",
    "              [0,0,0,0],\n",
    "              [0,0,3,1],\n",
    "              [0,0,1,1]))\n",
    "\n",
    "lbl = ndimage.label(b)[0]\n",
    "ndimage.measurements.center_of_mass(b, lbl, [1,2])"
   ]
  },
  {
   "cell_type": "code",
   "execution_count": null,
   "metadata": {},
   "outputs": [],
   "source": []
  }
 ],
 "metadata": {
  "kernelspec": {
   "display_name": "Python 3",
   "language": "python",
   "name": "python3"
  },
  "language_info": {
   "codemirror_mode": {
    "name": "ipython",
    "version": 3
   },
   "file_extension": ".py",
   "mimetype": "text/x-python",
   "name": "python",
   "nbconvert_exporter": "python",
   "pygments_lexer": "ipython3",
   "version": "3.7.6"
  }
 },
 "nbformat": 4,
 "nbformat_minor": 4
}
